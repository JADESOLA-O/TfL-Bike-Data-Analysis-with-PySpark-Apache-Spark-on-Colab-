{
  "nbformat": 4,
  "nbformat_minor": 0,
  "metadata": {
    "colab": {
      "provenance": []
    },
    "kernelspec": {
      "name": "python3",
      "display_name": "Python 3"
    },
    "language_info": {
      "name": "python"
    }
  },
  "cells": [
    {
      "cell_type": "code",
      "execution_count": null,
      "metadata": {
        "colab": {
          "base_uri": "https://localhost:8080/"
        },
        "id": "h9mA5fc42r1T",
        "outputId": "e55cd389-be75-48e0-f4e1-b50f77a62431"
      },
      "outputs": [
        {
          "output_type": "stream",
          "name": "stdout",
          "text": [
            "sample_data\n"
          ]
        }
      ],
      "source": [
        "# check if this instance of the notebook already has files present\n",
        "# and thus determine which steps required prior to reading in file and handling the data\n",
        "!ls"
      ]
    },
    {
      "cell_type": "code",
      "source": [
        "# set-up spark (NB if Apache amend versions on download site we will need to amend path in wget command)\n",
        "## NOTE that this version would make use of Hadoop if installed BUT that HDFS & Hadoop is not installed on our Colab\n",
        "## (we are only using a single node (probably as a VM) so we will not be able to benefit from parallelism)\n",
        "!clear\n",
        "!echo welcome\n",
        "\n",
        "!rm -f spark-3.4.[01]-bin-hadoop3.tgz*\n",
        "!rm -rf spark-3.4.[01]-bin-hadoop3\n",
        "\n",
        "!apt-get install openjdk-8-jdk-headless -qq > /dev/null\n",
        "!wget https://downloads.apache.org/spark/spark-3.4.3/spark-3.4.3-bin-hadoop3.tgz\n",
        "!tar -xf spark-3.4.3-bin-hadoop3.tgz\n",
        "\n",
        "!ls -alt\n",
        "print(\"standalone Spark is now installed\")"
      ],
      "metadata": {
        "colab": {
          "base_uri": "https://localhost:8080/"
        },
        "id": "3J9YitD82wUV",
        "outputId": "21caf3cf-12b0-442d-be60-36c9ed69992f"
      },
      "execution_count": null,
      "outputs": [
        {
          "output_type": "stream",
          "name": "stdout",
          "text": [
            "\u001b[H\u001b[2Jwelcome\n",
            "--2024-04-25 14:55:16--  https://downloads.apache.org/spark/spark-3.4.3/spark-3.4.3-bin-hadoop3.tgz\n",
            "Resolving downloads.apache.org (downloads.apache.org)... 88.99.208.237, 135.181.214.104, 2a01:4f9:3a:2c57::2, ...\n",
            "Connecting to downloads.apache.org (downloads.apache.org)|88.99.208.237|:443... connected.\n",
            "HTTP request sent, awaiting response... 200 OK\n",
            "Length: 388930980 (371M) [application/x-gzip]\n",
            "Saving to: ‘spark-3.4.3-bin-hadoop3.tgz’\n",
            "\n",
            "spark-3.4.3-bin-had 100%[===================>] 370.91M  21.3MB/s    in 18s     \n",
            "\n",
            "2024-04-25 14:55:35 (20.5 MB/s) - ‘spark-3.4.3-bin-hadoop3.tgz’ saved [388930980/388930980]\n",
            "\n",
            "total 379840\n",
            "drwxr-xr-x  1 root root      4096 Apr 25 14:55 .\n",
            "drwxr-xr-x  1 root root      4096 Apr 25 14:54 ..\n",
            "drwxr-xr-x  1 root root      4096 Apr 23 13:23 sample_data\n",
            "drwxr-xr-x  4 root root      4096 Apr 23 13:22 .config\n",
            "-rw-r--r--  1 root root 388930980 Apr 15 01:30 spark-3.4.3-bin-hadoop3.tgz\n",
            "drwxr-xr-x 13 1000 1000      4096 Apr 15 01:28 spark-3.4.3-bin-hadoop3\n",
            "standalone Spark is now installed\n"
          ]
        }
      ]
    },
    {
      "cell_type": "code",
      "source": [
        "# init spark (ensure SPARK_HOME set to same version as we download earlier)\n",
        "!pip3 install findspark\n",
        "import os\n",
        "os.environ[\"JAVA_HOME\"] = \"/usr/lib/jvm/java-8-openjdk-amd64\"\n",
        "os.environ[\"SPARK_HOME\"] = \"/content/spark-3.4.3-bin-hadoop3\"\n",
        "import findspark\n",
        "findspark.init()\n",
        "from pyspark import SparkConf, SparkContext\n",
        "# the next line gives us 'local' mode. try 'local[2]' to use 2 cores or 'master:NNNN' to run on Spark standalone cluster at port NNNN\n",
        "spark_conf = SparkConf().setMaster('local[2]').setAppName('MyApp')\n",
        "sc = SparkContext(conf=spark_conf)\n",
        "# see what we have by examining the Spark User Interface\n",
        "from pyspark.sql import *\n",
        "from pyspark.sql.functions import *\n",
        "SparkSession.builder.getOrCreate()"
      ],
      "metadata": {
        "colab": {
          "base_uri": "https://localhost:8080/",
          "height": 294
        },
        "id": "AoKxhIGW24ir",
        "outputId": "d9bd43dc-ffe9-42fa-b7af-000d481205e0"
      },
      "execution_count": null,
      "outputs": [
        {
          "output_type": "stream",
          "name": "stdout",
          "text": [
            "Collecting findspark\n",
            "  Downloading findspark-2.0.1-py2.py3-none-any.whl (4.4 kB)\n",
            "Installing collected packages: findspark\n",
            "Successfully installed findspark-2.0.1\n"
          ]
        },
        {
          "output_type": "execute_result",
          "data": {
            "text/plain": [
              "<pyspark.sql.session.SparkSession at 0x7dcdf427e290>"
            ],
            "text/html": [
              "\n",
              "            <div>\n",
              "                <p><b>SparkSession - in-memory</b></p>\n",
              "                \n",
              "        <div>\n",
              "            <p><b>SparkContext</b></p>\n",
              "\n",
              "            <p><a href=\"http://59cb5005b07b:4040\">Spark UI</a></p>\n",
              "\n",
              "            <dl>\n",
              "              <dt>Version</dt>\n",
              "                <dd><code>v3.4.3</code></dd>\n",
              "              <dt>Master</dt>\n",
              "                <dd><code>local[2]</code></dd>\n",
              "              <dt>AppName</dt>\n",
              "                <dd><code>MyApp</code></dd>\n",
              "            </dl>\n",
              "        </div>\n",
              "        \n",
              "            </div>\n",
              "        "
            ]
          },
          "metadata": {},
          "execution_count": 3
        }
      ]
    },
    {
      "cell_type": "code",
      "source": [
        "import os\n",
        "\n",
        "\n",
        "# use 'spark' as reference (as per standard approach)\n",
        "spark = SparkSession.builder.appName(\"bikes\").getOrCreate()"
      ],
      "metadata": {
        "id": "0sg64zWt3M9p"
      },
      "execution_count": null,
      "outputs": []
    },
    {
      "cell_type": "code",
      "source": [
        "# get bike hire file for given year from TfL open data\n",
        "!wget https://cycling.data.tfl.gov.uk/usage-stats/cyclehireusagestats-2014.zip\n",
        "!unzip cyclehireusagestats-2014.zip"
      ],
      "metadata": {
        "colab": {
          "base_uri": "https://localhost:8080/"
        },
        "id": "SRN3PcCv3Rtv",
        "outputId": "0972038d-3345-40b2-9088-dab3e2b857e7"
      },
      "execution_count": null,
      "outputs": [
        {
          "output_type": "stream",
          "name": "stdout",
          "text": [
            "--2024-04-25 14:55:57--  https://cycling.data.tfl.gov.uk/usage-stats/cyclehireusagestats-2014.zip\n",
            "Resolving cycling.data.tfl.gov.uk (cycling.data.tfl.gov.uk)... 104.16.98.104, 104.16.97.104\n",
            "Connecting to cycling.data.tfl.gov.uk (cycling.data.tfl.gov.uk)|104.16.98.104|:443... connected.\n",
            "HTTP request sent, awaiting response... 200 OK\n",
            "Length: 225215129 (215M) [application/zip]\n",
            "Saving to: ‘cyclehireusagestats-2014.zip’\n",
            "\n",
            "cyclehireusagestats 100%[===================>] 214.78M   208MB/s    in 1.0s    \n",
            "\n",
            "2024-04-25 14:55:58 (208 MB/s) - ‘cyclehireusagestats-2014.zip’ saved [225215129/225215129]\n",
            "\n",
            "Archive:  cyclehireusagestats-2014.zip\n",
            "  inflating: 1. Journey Data Extract 05Jan14-02Feb14.csv  \n",
            "  inflating: 10a. Journey Data Extract 14Sep14-27Sep14.csv  \n",
            "  inflating: 10b. Journey Data Extract 28Sep14-11Oct14.csv  \n",
            "  inflating: 11a. Journey Data Extract 12Oct14-08Nov14.csv  \n",
            "  inflating: 11b. Journey Data Extract 12Oct14-08Nov14.csv  \n",
            "  inflating: 12a. Journey Data Extract 09Nov14-06Dec14.csv  \n",
            "  inflating: 12b. Journey Data Extract 09Nov14-06Dec14.csv  \n",
            "  inflating: 13a. Journey Data Extract 07Dec14-21Dec14.csv  \n",
            "  inflating: 13b. Journey Data Extract 22Dec14-03Jan15.csv  \n",
            "  inflating: 14. Journey Data Extract 08Dec13-04Jan14.csv  \n",
            "  inflating: 2. Journey Data Extract 03Feb14-01Mar14.csv  \n",
            "  inflating: 3. Journey Data Extract 02Mar14-31Mar14.csv  \n",
            "  inflating: 4. Journey Data Extract 01Apr14-26Apr14.csv  \n",
            "  inflating: 5. Journey Data Extract 27Apr14-24May14.csv  \n",
            "  inflating: 6. Journey Data Extract 25May14-21Jun14.csv  \n",
            "  inflating: 7. Journey Data Extract 22Jun14-19Jul14.csv  \n",
            "  inflating: 8a Journey Data Extract 20Jul14-31Jul14.csv  \n",
            "  inflating: 8b Journey Data Extract 01Aug14-16Aug14.csv  \n",
            "  inflating: 9a Journey Data Extract 17Aug14-31Aug14.csv  \n",
            "  inflating: 9b Journey Data Extract 01Sep14-13Sep14.csv  \n"
          ]
        }
      ]
    },
    {
      "cell_type": "code",
      "source": [
        "A=\"./1. Journey*csv\"\n",
        "B=\"./2. Journey*csv\"\n",
        "C=\"./3. Journey*csv\"\n",
        "D=\"./4. Journey*csv\"\n",
        "E=\"./5. Journey*csv\"\n",
        "F=\"./6. Journey*csv\"\n",
        "J=\"./7. Journey*csv\"\n",
        "H=\"./8a Journey*csv\"\n",
        "I=\"./8b Journey*csv\"\n",
        "L=\"./9a Journey*csv\"\n",
        "M=\"./9b Journey*csv\"\n",
        "N=\"./10a. Journey*csv\"\n",
        "O=\"./10b. Journey*csv\"\n",
        "P=\"./11a. Journey*csv\"\n",
        "Q=\"./11b. Journey*csv\"\n",
        "R=\"./12a. Journey*csv\"\n",
        "S=\"./12b. Journey*csv\"\n",
        "T=\"./13a. Journey*csv\"\n",
        "U=\"./13b. Journey*csv\"\n",
        "V=\"./14. Journey*csv\"\n",
        "spark = SparkSession.builder.appName(\"bikes\").getOrCreate()\n",
        "cycle = (spark.read.format(\"csv\")\n",
        "         .option(\"header\", \"true\")\n",
        "         .option(\"inferSchema\", \"true\")\n",
        "         .load([A, B, C, D, E, F, H, I, J, L, M, N, O, P, Q, R, S, T, U, V]))\n",
        "\n",
        "# show top 10\n",
        "cycle.show(10)"
      ],
      "metadata": {
        "colab": {
          "base_uri": "https://localhost:8080/"
        },
        "id": "1VRacDH23WIw",
        "outputId": "48f86f9d-9a29-4c20-cca3-02f3ce8172c7"
      },
      "execution_count": null,
      "outputs": [
        {
          "output_type": "stream",
          "name": "stdout",
          "text": [
            "+---------+--------+-------+----------------+-------------+--------------------+----------------+---------------+--------------------+\n",
            "|Rental Id|Duration|Bike Id|        End Date|EndStation Id|     EndStation Name|      Start Date|StartStation Id|   StartStation Name|\n",
            "+---------+--------+-------+----------------+-------------+--------------------+----------------+---------------+--------------------+\n",
            "| 34263367|    1080|   9076|24/06/2014 00:57|          695|Islington Green, ...|24/06/2014 00:39|            311|Foley Street, Fit...|\n",
            "| 34603487|     660|   6328|03/07/2014 11:51|          695|Islington Green, ...|03/07/2014 11:40|             22|Northington Stree...|\n",
            "| 34689078|     120|   2006|05/07/2014 15:09|          357|Howland Street, F...|05/07/2014 15:07|            311|Foley Street, Fit...|\n",
            "| 34724273|    1260|   7904|06/07/2014 16:35|          695|Islington Green, ...|06/07/2014 16:14|            311|Foley Street, Fit...|\n",
            "| 34956750|    1500|   8251|13/07/2014 00:41|           93|Cloudesley Road, ...|13/07/2014 00:16|            311|Foley Street, Fit...|\n",
            "| 34946549|    1380|   6997|12/07/2014 18:35|          430|South Parade, Che...|12/07/2014 18:12|            514|Portman Square, M...|\n",
            "| 35011368|    2820|   4193|14/07/2014 15:49|          573|Limerston Street,...|14/07/2014 15:02|             14|Belgrove Street ,...|\n",
            "| 35027649|     180|   9781|14/07/2014 19:50|          430|South Parade, Che...|14/07/2014 19:47|            216|Old Brompton Road...|\n",
            "| 35057973|     420|   5133|15/07/2014 17:17|          356|South Kensington ...|15/07/2014 17:10|            216|Old Brompton Road...|\n",
            "| 35086123|    1200|    190|16/07/2014 09:31|          290|Winsland Street, ...|16/07/2014 09:11|            430|South Parade, Che...|\n",
            "+---------+--------+-------+----------------+-------------+--------------------+----------------+---------------+--------------------+\n",
            "only showing top 10 rows\n",
            "\n"
          ]
        }
      ]
    },
    {
      "cell_type": "code",
      "source": [
        "from pyspark.sql import functions as F\n",
        "from scipy.stats import ttest_ind, stats\n",
        "from pyspark.sql.functions import to_timestamp\n",
        "from pyspark.sql import SparkSession\n",
        "from pyspark.sql.functions import year, month, to_date, when\n",
        "from pyspark.sql.functions import to_timestamp\n",
        "from pyspark.sql.functions import date_format\n",
        "from scipy.stats import ttest_ind, stats\n",
        "from pyspark.sql.functions import month\n",
        "from pyspark.sql.functions import col\n",
        "\n",
        "import matplotlib.pyplot as plt\n",
        "import pandas as pd\n",
        "from pyspark.sql.functions import mean"
      ],
      "metadata": {
        "id": "4332EqMm3i2U"
      },
      "execution_count": null,
      "outputs": []
    },
    {
      "cell_type": "code",
      "source": [
        "\n",
        "#Convert the date and time columns to timestamp format and calculate the duration of each ride.\n",
        "\n",
        "\n",
        "cycle = cycle.withColumn('Start Date', to_timestamp('Start Date', 'dd/MM/yyyy HH:mm'))\n",
        "cycle = cycle.withColumn('End Date', to_timestamp('End Date', 'dd/MM/yyyy HH:mm'))\n",
        "\n",
        "cycle = cycle.withColumn('Duration', (cycle['End Date'].cast('long') - cycle['Start Date'].cast('long')))"
      ],
      "metadata": {
        "id": "eSj_qCYO3lrd"
      },
      "execution_count": null,
      "outputs": []
    },
    {
      "cell_type": "code",
      "source": [
        "# Assuming 'cycle' is your PySpark DataFrame and it has a column named \"Start Date\" with date or timestamp type\n",
        "\n",
        "# Initialize SparkSession (if not already initialized)\n",
        "spark = SparkSession.builder.appName(\"year_extraction\").getOrCreate()\n",
        "\n",
        "# First, ensure the \"Start Date\" column is of the appropriate date or timestamp type\n",
        "# If it's a string, you might need to convert it using to_date() or to_timestamp(), for example:\n",
        "# cycle = cycle.withColumn(\"Start Date\", to_date(\"Start Date\", \"your_date_format_here\"))\n",
        "\n",
        "# Extract the year from the \"Start Date\" column and get distinct values\n",
        "lst_years = cycle.select(year(\"Start Date\").alias(\"Year\")).distinct().orderBy(\"Year\")\n",
        "\n",
        "# Show the list of years\n",
        "lst_years.show()"
      ],
      "metadata": {
        "colab": {
          "base_uri": "https://localhost:8080/"
        },
        "id": "VR9Wy0tZ3qOt",
        "outputId": "d616ba5c-25b6-4c59-87ad-447a5972fffc"
      },
      "execution_count": null,
      "outputs": [
        {
          "output_type": "stream",
          "name": "stdout",
          "text": [
            "+----+\n",
            "|Year|\n",
            "+----+\n",
            "|null|\n",
            "|2013|\n",
            "|2014|\n",
            "|2015|\n",
            "+----+\n",
            "\n"
          ]
        }
      ]
    },
    {
      "cell_type": "code",
      "source": [
        "#drop the null values\n",
        "cycle = cycle.drop(*[c for c in cycle.columns if cycle.select(c).na.drop().count() == 0])\n",
        "cycle = cycle.dropna()\n",
        "\n",
        "cycle.select([count(when(col(c).isNull(), c)).alias(c) for c in cycle.columns]).show()\n",
        "cycle.show()"
      ],
      "metadata": {
        "colab": {
          "base_uri": "https://localhost:8080/"
        },
        "id": "Bay-5IE53tkG",
        "outputId": "bd4d22d3-ad3a-4ad9-be18-d2e961b9727f"
      },
      "execution_count": null,
      "outputs": [
        {
          "output_type": "stream",
          "name": "stdout",
          "text": [
            "+---------+--------+-------+--------+-------------+---------------+----------+---------------+-----------------+\n",
            "|Rental Id|Duration|Bike Id|End Date|EndStation Id|EndStation Name|Start Date|StartStation Id|StartStation Name|\n",
            "+---------+--------+-------+--------+-------------+---------------+----------+---------------+-----------------+\n",
            "|        0|       0|      0|       0|            0|              0|         0|              0|                0|\n",
            "+---------+--------+-------+--------+-------------+---------------+----------+---------------+-----------------+\n",
            "\n",
            "+---------+--------+-------+-------------------+-------------+--------------------+-------------------+---------------+--------------------+\n",
            "|Rental Id|Duration|Bike Id|           End Date|EndStation Id|     EndStation Name|         Start Date|StartStation Id|   StartStation Name|\n",
            "+---------+--------+-------+-------------------+-------------+--------------------+-------------------+---------------+--------------------+\n",
            "| 34263367|    1080|   9076|2014-06-24 00:57:00|          695|Islington Green, ...|2014-06-24 00:39:00|            311|Foley Street, Fit...|\n",
            "| 34603487|     660|   6328|2014-07-03 11:51:00|          695|Islington Green, ...|2014-07-03 11:40:00|             22|Northington Stree...|\n",
            "| 34689078|     120|   2006|2014-07-05 15:09:00|          357|Howland Street, F...|2014-07-05 15:07:00|            311|Foley Street, Fit...|\n",
            "| 34724273|    1260|   7904|2014-07-06 16:35:00|          695|Islington Green, ...|2014-07-06 16:14:00|            311|Foley Street, Fit...|\n",
            "| 34956750|    1500|   8251|2014-07-13 00:41:00|           93|Cloudesley Road, ...|2014-07-13 00:16:00|            311|Foley Street, Fit...|\n",
            "| 34946549|    1380|   6997|2014-07-12 18:35:00|          430|South Parade, Che...|2014-07-12 18:12:00|            514|Portman Square, M...|\n",
            "| 35011368|    2820|   4193|2014-07-14 15:49:00|          573|Limerston Street,...|2014-07-14 15:02:00|             14|Belgrove Street ,...|\n",
            "| 35027649|     180|   9781|2014-07-14 19:50:00|          430|South Parade, Che...|2014-07-14 19:47:00|            216|Old Brompton Road...|\n",
            "| 35057973|     420|   5133|2014-07-15 17:17:00|          356|South Kensington ...|2014-07-15 17:10:00|            216|Old Brompton Road...|\n",
            "| 35086123|    1200|    190|2014-07-16 09:31:00|          290|Winsland Street, ...|2014-07-16 09:11:00|            430|South Parade, Che...|\n",
            "| 34868641|     960|   8620|2014-07-10 15:13:00|          345|Flood Street, Che...|2014-07-10 14:57:00|            405|Gloucester Road S...|\n",
            "| 34934674|    1440|   8257|2014-07-12 15:25:00|          192|Wardour Street, Soho|2014-07-12 15:01:00|            430|South Parade, Che...|\n",
            "| 35113372|     780|   5495|2014-07-16 19:44:00|          430|South Parade, Che...|2014-07-16 19:31:00|            290|Winsland Street, ...|\n",
            "| 35114768|    1380|  11118|2014-07-16 20:29:00|           43|Crawford Street, ...|2014-07-16 20:06:00|            430|South Parade, Che...|\n",
            "| 35161284|     300|   2825|2014-07-17 21:03:00|          430|South Parade, Che...|2014-07-17 20:58:00|            216|Old Brompton Road...|\n",
            "| 35178200|     660|   2797|2014-07-18 11:49:00|          405|Gloucester Road S...|2014-07-18 11:38:00|            430|South Parade, Che...|\n",
            "| 35182220|     240|   9760|2014-07-18 13:45:00|          430|South Parade, Che...|2014-07-18 13:41:00|            405|Gloucester Road S...|\n",
            "| 35219861|     960|   5588|2014-07-19 13:45:00|          150|Holy Trinity Brom...|2014-07-19 13:29:00|            430|South Parade, Che...|\n",
            "| 35224864|     660|  11255|2014-07-19 15:17:00|          747|Ormonde Gate, Che...|2014-07-19 15:06:00|            368|Harriet Street, K...|\n",
            "| 34316757|     900|   2942|2014-06-25 11:40:00|          430|South Parade, Che...|2014-06-25 11:25:00|            638|Falcon Road, Clap...|\n",
            "+---------+--------+-------+-------------------+-------------+--------------------+-------------------+---------------+--------------------+\n",
            "only showing top 20 rows\n",
            "\n"
          ]
        }
      ]
    },
    {
      "cell_type": "code",
      "source": [
        "# DataFrame with the filtered result where all durations are non-negative\n",
        "cycle = cycle.filter(col(\"Duration\") > 0)"
      ],
      "metadata": {
        "id": "yvPchSJr3wv3"
      },
      "execution_count": null,
      "outputs": []
    },
    {
      "cell_type": "code",
      "source": [
        "# removing year 2013 as the data we are working with starts from 2014\n",
        "cycle = cycle.filter(year(\"Start Date\") == 2014)"
      ],
      "metadata": {
        "id": "FR3A2t8W30D7"
      },
      "execution_count": null,
      "outputs": []
    },
    {
      "cell_type": "code",
      "source": [
        "#adding a column \"day\" representing the day of the week that corresponds to the start date\n",
        "cycle = cycle.withColumn('Day', date_format('Start Date', 'EEEE'))\n",
        "cycle.show()"
      ],
      "metadata": {
        "colab": {
          "base_uri": "https://localhost:8080/"
        },
        "id": "qCG2v8Qb36ik",
        "outputId": "e0e2df23-293f-4fb1-a260-9ae0c0f80e08"
      },
      "execution_count": null,
      "outputs": [
        {
          "output_type": "stream",
          "name": "stdout",
          "text": [
            "+---------+--------+-------+-------------------+-------------+--------------------+-------------------+---------------+--------------------+---------+\n",
            "|Rental Id|Duration|Bike Id|           End Date|EndStation Id|     EndStation Name|         Start Date|StartStation Id|   StartStation Name|      Day|\n",
            "+---------+--------+-------+-------------------+-------------+--------------------+-------------------+---------------+--------------------+---------+\n",
            "| 34263367|    1080|   9076|2014-06-24 00:57:00|          695|Islington Green, ...|2014-06-24 00:39:00|            311|Foley Street, Fit...|  Tuesday|\n",
            "| 34603487|     660|   6328|2014-07-03 11:51:00|          695|Islington Green, ...|2014-07-03 11:40:00|             22|Northington Stree...| Thursday|\n",
            "| 34689078|     120|   2006|2014-07-05 15:09:00|          357|Howland Street, F...|2014-07-05 15:07:00|            311|Foley Street, Fit...| Saturday|\n",
            "| 34724273|    1260|   7904|2014-07-06 16:35:00|          695|Islington Green, ...|2014-07-06 16:14:00|            311|Foley Street, Fit...|   Sunday|\n",
            "| 34956750|    1500|   8251|2014-07-13 00:41:00|           93|Cloudesley Road, ...|2014-07-13 00:16:00|            311|Foley Street, Fit...|   Sunday|\n",
            "| 34946549|    1380|   6997|2014-07-12 18:35:00|          430|South Parade, Che...|2014-07-12 18:12:00|            514|Portman Square, M...| Saturday|\n",
            "| 35011368|    2820|   4193|2014-07-14 15:49:00|          573|Limerston Street,...|2014-07-14 15:02:00|             14|Belgrove Street ,...|   Monday|\n",
            "| 35027649|     180|   9781|2014-07-14 19:50:00|          430|South Parade, Che...|2014-07-14 19:47:00|            216|Old Brompton Road...|   Monday|\n",
            "| 35057973|     420|   5133|2014-07-15 17:17:00|          356|South Kensington ...|2014-07-15 17:10:00|            216|Old Brompton Road...|  Tuesday|\n",
            "| 35086123|    1200|    190|2014-07-16 09:31:00|          290|Winsland Street, ...|2014-07-16 09:11:00|            430|South Parade, Che...|Wednesday|\n",
            "| 34868641|     960|   8620|2014-07-10 15:13:00|          345|Flood Street, Che...|2014-07-10 14:57:00|            405|Gloucester Road S...| Thursday|\n",
            "| 34934674|    1440|   8257|2014-07-12 15:25:00|          192|Wardour Street, Soho|2014-07-12 15:01:00|            430|South Parade, Che...| Saturday|\n",
            "| 35113372|     780|   5495|2014-07-16 19:44:00|          430|South Parade, Che...|2014-07-16 19:31:00|            290|Winsland Street, ...|Wednesday|\n",
            "| 35114768|    1380|  11118|2014-07-16 20:29:00|           43|Crawford Street, ...|2014-07-16 20:06:00|            430|South Parade, Che...|Wednesday|\n",
            "| 35161284|     300|   2825|2014-07-17 21:03:00|          430|South Parade, Che...|2014-07-17 20:58:00|            216|Old Brompton Road...| Thursday|\n",
            "| 35178200|     660|   2797|2014-07-18 11:49:00|          405|Gloucester Road S...|2014-07-18 11:38:00|            430|South Parade, Che...|   Friday|\n",
            "| 35182220|     240|   9760|2014-07-18 13:45:00|          430|South Parade, Che...|2014-07-18 13:41:00|            405|Gloucester Road S...|   Friday|\n",
            "| 35219861|     960|   5588|2014-07-19 13:45:00|          150|Holy Trinity Brom...|2014-07-19 13:29:00|            430|South Parade, Che...| Saturday|\n",
            "| 35224864|     660|  11255|2014-07-19 15:17:00|          747|Ormonde Gate, Che...|2014-07-19 15:06:00|            368|Harriet Street, K...| Saturday|\n",
            "| 34316757|     900|   2942|2014-06-25 11:40:00|          430|South Parade, Che...|2014-06-25 11:25:00|            638|Falcon Road, Clap...|Wednesday|\n",
            "+---------+--------+-------+-------------------+-------------+--------------------+-------------------+---------------+--------------------+---------+\n",
            "only showing top 20 rows\n",
            "\n"
          ]
        }
      ]
    },
    {
      "cell_type": "code",
      "source": [
        "# Count the number of distinct stations\n",
        "total_stations = cycle.select(col(\"StartStation Name\")).distinct().count()\n",
        "\n",
        "print(\"Number of stations:\", total_stations)"
      ],
      "metadata": {
        "colab": {
          "base_uri": "https://localhost:8080/"
        },
        "id": "uJrH-ufT39uS",
        "outputId": "961e0bb8-0c60-4520-8c9f-3360b245251b"
      },
      "execution_count": null,
      "outputs": [
        {
          "output_type": "stream",
          "name": "stdout",
          "text": [
            "Number of stations: 761\n"
          ]
        }
      ]
    },
    {
      "cell_type": "code",
      "source": [
        "# Count the number of distinct stations\n",
        "total_EndStation_Name = cycle.select(col(\"EndStation Name\")).distinct().count()\n",
        "\n",
        "print(\"EndStation Name:\", total_EndStation_Name)"
      ],
      "metadata": {
        "colab": {
          "base_uri": "https://localhost:8080/"
        },
        "id": "GPCmYiVL4Af5",
        "outputId": "fddd5299-1e33-4ab1-852e-961c9b7e39ba"
      },
      "execution_count": null,
      "outputs": [
        {
          "output_type": "stream",
          "name": "stdout",
          "text": [
            "EndStation Name: 763\n"
          ]
        }
      ]
    },
    {
      "cell_type": "code",
      "source": [
        "# DataFrame with rides related to \"Baylis Road\" and \"Waterloo station\"\n",
        "\n",
        "\n",
        "baylis_waterloo_rides = cycle.filter(cycle[\"StartStation Name\"] == \"Baylis Road, Waterloo\")\n",
        "\n",
        "baylis_waterloo_rides.show(10)"
      ],
      "metadata": {
        "colab": {
          "base_uri": "https://localhost:8080/"
        },
        "id": "vrNHMztY4yma",
        "outputId": "fadb5cd7-f6ac-4146-ee16-5750bbdee59d"
      },
      "execution_count": null,
      "outputs": [
        {
          "output_type": "stream",
          "name": "stdout",
          "text": [
            "+---------+--------+-------+-------------------+-------------+--------------------+-------------------+---------------+--------------------+---------+\n",
            "|Rental Id|Duration|Bike Id|           End Date|EndStation Id|     EndStation Name|         Start Date|StartStation Id|   StartStation Name|      Day|\n",
            "+---------+--------+-------+-------------------+-------------+--------------------+-------------------+---------------+--------------------+---------+\n",
            "| 34335942|     600|   7213|2014-06-25 18:59:00|          199|Great Tower Stree...|2014-06-25 18:49:00|            272|Baylis Road, Wate...|Wednesday|\n",
            "| 34292680|     540|  11506|2014-06-24 18:12:00|          199|Great Tower Stree...|2014-06-24 18:03:00|            272|Baylis Road, Wate...|  Tuesday|\n",
            "| 34251992|     600|   1845|2014-06-23 17:58:00|          199|Great Tower Stree...|2014-06-23 17:48:00|            272|Baylis Road, Wate...|   Monday|\n",
            "| 34618956|     720|   8070|2014-07-03 17:59:00|          199|Great Tower Stree...|2014-07-03 17:47:00|            272|Baylis Road, Wate...| Thursday|\n",
            "| 34574886|     600|   2786|2014-07-02 17:57:00|          199|Great Tower Stree...|2014-07-02 17:47:00|            272|Baylis Road, Wate...|Wednesday|\n",
            "| 35203325|     660|  10752|2014-07-18 20:39:00|          199|Great Tower Stree...|2014-07-18 20:28:00|            272|Baylis Road, Wate...|   Friday|\n",
            "| 35152298|     540|  11435|2014-07-17 18:23:00|          199|Great Tower Stree...|2014-07-17 18:14:00|            272|Baylis Road, Wate...| Thursday|\n",
            "| 35107220|     600|   5663|2014-07-16 18:14:00|          199|Great Tower Stree...|2014-07-16 18:04:00|            272|Baylis Road, Wate...|Wednesday|\n",
            "| 34844198|     720|  12181|2014-07-09 18:54:00|          199|Great Tower Stree...|2014-07-09 18:42:00|            272|Baylis Road, Wate...|Wednesday|\n",
            "| 35019284|     660|   9996|2014-07-14 17:54:00|          199|Great Tower Stree...|2014-07-14 17:43:00|            272|Baylis Road, Wate...|   Monday|\n",
            "+---------+--------+-------+-------------------+-------------+--------------------+-------------------+---------------+--------------------+---------+\n",
            "only showing top 10 rows\n",
            "\n"
          ]
        }
      ]
    },
    {
      "cell_type": "code",
      "source": [
        "other_rides = cycle.filter((cycle[\"StartStation Name\"] != \"Baylis Road, Waterloo\"))\n",
        "other_rides.show(10)"
      ],
      "metadata": {
        "colab": {
          "base_uri": "https://localhost:8080/"
        },
        "id": "E_EK31Zb41cu",
        "outputId": "e6e77c36-06fc-4c06-fd3b-eefa529c4900"
      },
      "execution_count": null,
      "outputs": [
        {
          "output_type": "stream",
          "name": "stdout",
          "text": [
            "+---------+--------+-------+-------------------+-------------+--------------------+-------------------+---------------+--------------------+---------+\n",
            "|Rental Id|Duration|Bike Id|           End Date|EndStation Id|     EndStation Name|         Start Date|StartStation Id|   StartStation Name|      Day|\n",
            "+---------+--------+-------+-------------------+-------------+--------------------+-------------------+---------------+--------------------+---------+\n",
            "| 34263367|    1080|   9076|2014-06-24 00:57:00|          695|Islington Green, ...|2014-06-24 00:39:00|            311|Foley Street, Fit...|  Tuesday|\n",
            "| 34603487|     660|   6328|2014-07-03 11:51:00|          695|Islington Green, ...|2014-07-03 11:40:00|             22|Northington Stree...| Thursday|\n",
            "| 34689078|     120|   2006|2014-07-05 15:09:00|          357|Howland Street, F...|2014-07-05 15:07:00|            311|Foley Street, Fit...| Saturday|\n",
            "| 34724273|    1260|   7904|2014-07-06 16:35:00|          695|Islington Green, ...|2014-07-06 16:14:00|            311|Foley Street, Fit...|   Sunday|\n",
            "| 34956750|    1500|   8251|2014-07-13 00:41:00|           93|Cloudesley Road, ...|2014-07-13 00:16:00|            311|Foley Street, Fit...|   Sunday|\n",
            "| 34946549|    1380|   6997|2014-07-12 18:35:00|          430|South Parade, Che...|2014-07-12 18:12:00|            514|Portman Square, M...| Saturday|\n",
            "| 35011368|    2820|   4193|2014-07-14 15:49:00|          573|Limerston Street,...|2014-07-14 15:02:00|             14|Belgrove Street ,...|   Monday|\n",
            "| 35027649|     180|   9781|2014-07-14 19:50:00|          430|South Parade, Che...|2014-07-14 19:47:00|            216|Old Brompton Road...|   Monday|\n",
            "| 35057973|     420|   5133|2014-07-15 17:17:00|          356|South Kensington ...|2014-07-15 17:10:00|            216|Old Brompton Road...|  Tuesday|\n",
            "| 35086123|    1200|    190|2014-07-16 09:31:00|          290|Winsland Street, ...|2014-07-16 09:11:00|            430|South Parade, Che...|Wednesday|\n",
            "+---------+--------+-------+-------------------+-------------+--------------------+-------------------+---------------+--------------------+---------+\n",
            "only showing top 10 rows\n",
            "\n"
          ]
        }
      ]
    },
    {
      "cell_type": "code",
      "source": [
        "# Perform descriptive statistics\n",
        "baylis_waterloo_stats = baylis_waterloo_rides.select(F.mean('Duration'), F.stddev('Duration')).collect()[0]\n",
        "other_stats = other_rides.select(F.mean('Duration'), F.stddev('Duration')).collect()[0]\n",
        "\n",
        "print(\"descriptive statistics:\")\n",
        "print(\"descriptive statistics_baylis:\", baylis_waterloo_stats)\n",
        "print(\"other_stats_other:\", other_stats )"
      ],
      "metadata": {
        "colab": {
          "base_uri": "https://localhost:8080/"
        },
        "id": "dkVzee-j48wH",
        "outputId": "75274a72-d32c-4691-8799-65e287ba0a1e"
      },
      "execution_count": null,
      "outputs": [
        {
          "output_type": "stream",
          "name": "stdout",
          "text": [
            "descriptive statistics:\n",
            "descriptive statistics_baylis: Row(avg(Duration)=1046.6930031147915, stddev_samp(Duration)=6409.995032074472)\n",
            "other_stats_other: Row(avg(Duration)=1470.5920967367313, stddev_samp(Duration)=13006.925132363982)\n"
          ]
        }
      ]
    },
    {
      "cell_type": "code",
      "source": [
        "# Collect the durations as lists\n",
        "baylis_duration = baylis_waterloo_rides.select(\"Duration\")\n",
        "other_duration = other_rides.select(\"Duration\")\n",
        "baylis_waterloo_list = baylis_duration.rdd.flatMap(lambda x: x).collect()\n",
        "other_rides_list = other_duration.rdd.flatMap(lambda x: x).collect()"
      ],
      "metadata": {
        "id": "RrouAtnX--8T"
      },
      "execution_count": null,
      "outputs": []
    },
    {
      "cell_type": "code",
      "source": [
        "from scipy.stats import levene\n",
        "\n",
        "# Perform Levene's test for equal variances\n",
        "stat, p_value = levene(baylis_waterloo_list, other_rides_list)\n",
        "print('Levene test p-value:', p_value)\n",
        "\n",
        "# Set significance level\n",
        "alpha = 0.05\n",
        "if p_value < alpha:\n",
        "    print(\"Unequal variances, reject the null hypothesis.\")\n",
        "else:\n",
        "    print(\"Equal variances, fail to reject the null hypothesis.\")\n"
      ],
      "metadata": {
        "colab": {
          "base_uri": "https://localhost:8080/"
        },
        "id": "J8Y3lEJyCwVt",
        "outputId": "69053c78-a320-48f5-d033-7c6efeb5213b"
      },
      "execution_count": null,
      "outputs": [
        {
          "output_type": "stream",
          "name": "stdout",
          "text": [
            "Levene test p-value: 9.830633262687688e-06\n",
            "Unequal variances, reject the null hypothesis.\n"
          ]
        }
      ]
    },
    {
      "cell_type": "code",
      "source": [
        "# Perform a two-sample t-test\n",
        "\n",
        "# Perform t-test on the duration data of bike rides\n",
        "t_stat, p_value = ttest_ind(baylis_waterloo_list, other_rides_list, equal_var=False) # Added equal_var=False for Welch's t-test\n",
        "\n",
        "# Print the resulting t-statistic and p-value\n",
        "print(\"Results of Two-Sample T-Test:\")\n",
        "print(\"----------------------------\")\n",
        "print(\"T-Statistic: \", t_stat)\n",
        "print(\"P-Value: \", p_value)"
      ],
      "metadata": {
        "colab": {
          "base_uri": "https://localhost:8080/"
        },
        "id": "9sEjfwIn5Ali",
        "outputId": "2e0026da-e657-43d4-8faf-1b28e1f4478c"
      },
      "execution_count": null,
      "outputs": [
        {
          "output_type": "stream",
          "name": "stdout",
          "text": [
            "Results of Two-Sample T-Test:\n",
            "----------------------------\n",
            "T-Statistic:  -10.67130910576357\n",
            "P-Value:  1.566891081171705e-26\n"
          ]
        }
      ]
    },
    {
      "cell_type": "code",
      "source": [
        "# Interpret the results\n",
        "alpha = 0.05  # significance level\n",
        "if p_value < alpha:\n",
        "    print(f\"Reject the null hypothesis - There is sufficient evidence to conclude that rides in 2014 starting from Baylis Road, Waterloo station were significantly shorter compared to other stations is true. P-value: {p_value}\")\n",
        "else:\n",
        "    print(f\"Fail to reject the null hypothesis - no significant difference found between two groups. P-value: {p_value}\")"
      ],
      "metadata": {
        "colab": {
          "base_uri": "https://localhost:8080/"
        },
        "id": "rh87OBJL5ITk",
        "outputId": "f97aff59-f26a-44a0-973f-1827485f71cf"
      },
      "execution_count": null,
      "outputs": [
        {
          "output_type": "stream",
          "name": "stdout",
          "text": [
            "Reject the null hypothesis - There is sufficient evidence to conclude that rides in 2014 starting from Baylis Road, Waterloo station were significantly shorter compared to other stations is true. P-value: 1.566891081171705e-26\n"
          ]
        }
      ]
    },
    {
      "cell_type": "markdown",
      "source": [
        "H1"
      ],
      "metadata": {
        "id": "wwLr4-DZH6gK"
      }
    },
    {
      "cell_type": "code",
      "source": [
        "from pyspark.sql.functions import mean\n",
        "\n",
        "# Calculate average duration for Baylis Road, Waterloo\n",
        "baylis_avg_duration = baylis_waterloo_rides.agg(mean(\"Duration\").alias(\"average_duration\")).collect()[0][\"average_duration\"]\n",
        "\n",
        "# Calculate average duration for other stations\n",
        "other_avg_duration = other_rides.agg(mean(\"Duration\").alias(\"average_duration\")).collect()[0][\"average_duration\"]\n"
      ],
      "metadata": {
        "id": "QY64jFX8OhTt"
      },
      "execution_count": null,
      "outputs": []
    },
    {
      "cell_type": "code",
      "source": [
        "# Print results\n",
        "print(f\"Average duration from Baylis Road, Waterloo: {baylis_avg_duration} seconds\")\n",
        "print(f\"Average duration from other stations: {other_avg_duration} seconds\")\n",
        "\n",
        "# Check if Baylis Road, Waterloo rides are shorter\n",
        "if baylis_avg_duration < other_avg_duration:\n",
        "    print(\"Rides starting from Baylis Road, Waterloo station are shorter than those starting from other stations.\")\n",
        "else:\n",
        "    print(\"Rides starting from other stations are shorter than those starting from Baylis Road, Waterloo station.\")\n",
        "\n"
      ],
      "metadata": {
        "colab": {
          "base_uri": "https://localhost:8080/"
        },
        "id": "k4IcQsU5M_C8",
        "outputId": "f23a5448-c386-4062-9353-19b810d22be6"
      },
      "execution_count": null,
      "outputs": [
        {
          "output_type": "stream",
          "name": "stdout",
          "text": [
            "Average duration from Baylis Road, Waterloo: 1046.6930031147915 seconds\n",
            "Average duration from other stations: 1470.5920967367313 seconds\n",
            "Rides starting from Baylis Road, Waterloo station are shorter than those starting from other stations.\n"
          ]
        }
      ]
    }
  ]
}